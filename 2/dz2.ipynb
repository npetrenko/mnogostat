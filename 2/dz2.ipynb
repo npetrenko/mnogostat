{
 "cells": [
  {
   "cell_type": "code",
   "execution_count": 1,
   "metadata": {
    "collapsed": true
   },
   "outputs": [],
   "source": [
    "import numpy as np\n",
    "import pandas as pd\n",
    "from sklearn.cluster import k_means\n",
    "from sklearn.mixture import GaussianMixture\n",
    "from sklearn.cluster import AgglomerativeClustering\n",
    "from scipy.cluster.hierarchy import linkage, dendrogram, fcluster\n",
    "from matplotlib import pyplot as plt"
   ]
  },
  {
   "cell_type": "code",
   "execution_count": 2,
   "metadata": {
    "collapsed": true
   },
   "outputs": [],
   "source": [
    "data = pd.read_excel('Данные по банкам с нулями.xls')"
   ]
  },
  {
   "cell_type": "code",
   "execution_count": 3,
   "metadata": {
    "collapsed": false
   },
   "outputs": [
    {
     "data": {
      "text/html": [
       "<div>\n",
       "<table border=\"1\" class=\"dataframe\">\n",
       "  <thead>\n",
       "    <tr style=\"text-align: right;\">\n",
       "      <th></th>\n",
       "      <th>Основные операциии крупнейших российских банков</th>\n",
       "      <th>Unnamed: 1</th>\n",
       "      <th>Unnamed: 2</th>\n",
       "      <th>Unnamed: 3</th>\n",
       "      <th>Unnamed: 4</th>\n",
       "      <th>Unnamed: 5</th>\n",
       "      <th>Unnamed: 6</th>\n",
       "      <th>Unnamed: 7</th>\n",
       "      <th>Unnamed: 8</th>\n",
       "      <th>Unnamed: 9</th>\n",
       "      <th>...</th>\n",
       "      <th>Unnamed: 14</th>\n",
       "      <th>Unnamed: 15</th>\n",
       "      <th>Unnamed: 16</th>\n",
       "      <th>Unnamed: 17</th>\n",
       "      <th>Unnamed: 18</th>\n",
       "      <th>Unnamed: 19</th>\n",
       "      <th>Unnamed: 20</th>\n",
       "      <th>Unnamed: 21</th>\n",
       "      <th>Unnamed: 22</th>\n",
       "      <th>Unnamed: 23</th>\n",
       "    </tr>\n",
       "  </thead>\n",
       "  <tbody>\n",
       "    <tr>\n",
       "      <th>NaN</th>\n",
       "      <td>NaN</td>\n",
       "      <td>NaN</td>\n",
       "      <td>NaN</td>\n",
       "      <td>NaN</td>\n",
       "      <td>NaN</td>\n",
       "      <td>NaN</td>\n",
       "      <td>NaN</td>\n",
       "      <td>NaN</td>\n",
       "      <td>NaN</td>\n",
       "      <td>NaN</td>\n",
       "      <td>...</td>\n",
       "      <td>NaN</td>\n",
       "      <td>NaN</td>\n",
       "      <td>NaN</td>\n",
       "      <td>NaN</td>\n",
       "      <td>NaN</td>\n",
       "      <td>NaN</td>\n",
       "      <td>NaN</td>\n",
       "      <td>NaN</td>\n",
       "      <td>NaN</td>\n",
       "      <td>NaN</td>\n",
       "    </tr>\n",
       "    <tr>\n",
       "      <th>NaN</th>\n",
       "      <td>На 01.02.2008, млн. руб.</td>\n",
       "      <td>Активы</td>\n",
       "      <td>NaN</td>\n",
       "      <td>NaN</td>\n",
       "      <td>NaN</td>\n",
       "      <td>NaN</td>\n",
       "      <td>NaN</td>\n",
       "      <td>NaN</td>\n",
       "      <td>NaN</td>\n",
       "      <td>NaN</td>\n",
       "      <td>...</td>\n",
       "      <td>NaN</td>\n",
       "      <td>Пассивы</td>\n",
       "      <td>NaN</td>\n",
       "      <td>NaN</td>\n",
       "      <td>NaN</td>\n",
       "      <td>NaN</td>\n",
       "      <td>NaN</td>\n",
       "      <td>NaN</td>\n",
       "      <td>NaN</td>\n",
       "      <td>NaN</td>\n",
       "    </tr>\n",
       "    <tr>\n",
       "      <th>NaN</th>\n",
       "      <td>Банк</td>\n",
       "      <td>Чистые активы</td>\n",
       "      <td>Денежные средства</td>\n",
       "      <td>Депозиты в Банке России</td>\n",
       "      <td>Межбанковские кредиты (МБК) резидентам</td>\n",
       "      <td>МБК нерезидентам</td>\n",
       "      <td>Средства, предоставленные государству</td>\n",
       "      <td>Средства, предоставленные пред приятиям</td>\n",
       "      <td>Средства, предоставленные физи ческим лицам</td>\n",
       "      <td>Средства, предоставленные нере зидентам</td>\n",
       "      <td>...</td>\n",
       "      <td>МБК, полученные от резидентов</td>\n",
       "      <td>МБК, полученные от нерезиденто в</td>\n",
       "      <td>Текущие счета государства</td>\n",
       "      <td>Текущие счета предприятий</td>\n",
       "      <td>Прочие текущие счета</td>\n",
       "      <td>Депозиты предприятий</td>\n",
       "      <td>Депозиты физических лиц</td>\n",
       "      <td>Депозиты нерезидентов</td>\n",
       "      <td>Выпущенные долговые обязательс тва</td>\n",
       "      <td>Собственные средства</td>\n",
       "    </tr>\n",
       "    <tr>\n",
       "      <th>1.0</th>\n",
       "      <td>АБСОЛЮТ БАНК</td>\n",
       "      <td>130178</td>\n",
       "      <td>1708.62</td>\n",
       "      <td>0</td>\n",
       "      <td>6093.7</td>\n",
       "      <td>7883.06</td>\n",
       "      <td>0</td>\n",
       "      <td>59243.6</td>\n",
       "      <td>25877.3</td>\n",
       "      <td>7881.18</td>\n",
       "      <td>...</td>\n",
       "      <td>8019.97</td>\n",
       "      <td>51978.2</td>\n",
       "      <td>0</td>\n",
       "      <td>8109.72</td>\n",
       "      <td>2532.03</td>\n",
       "      <td>2908.52</td>\n",
       "      <td>14273.7</td>\n",
       "      <td>10745.5</td>\n",
       "      <td>10374.1</td>\n",
       "      <td>6848.02</td>\n",
       "    </tr>\n",
       "    <tr>\n",
       "      <th>2.0</th>\n",
       "      <td>АВАНГАРД</td>\n",
       "      <td>39334.4</td>\n",
       "      <td>675.025</td>\n",
       "      <td>0</td>\n",
       "      <td>4554.9</td>\n",
       "      <td>482.261</td>\n",
       "      <td>0</td>\n",
       "      <td>18628.1</td>\n",
       "      <td>7788.75</td>\n",
       "      <td>1620.93</td>\n",
       "      <td>...</td>\n",
       "      <td>5822.17</td>\n",
       "      <td>3341.91</td>\n",
       "      <td>0</td>\n",
       "      <td>8189.54</td>\n",
       "      <td>2300.51</td>\n",
       "      <td>5737.54</td>\n",
       "      <td>4285.74</td>\n",
       "      <td>70.366</td>\n",
       "      <td>2801.1</td>\n",
       "      <td>1767.43</td>\n",
       "    </tr>\n",
       "  </tbody>\n",
       "</table>\n",
       "<p>5 rows × 24 columns</p>\n",
       "</div>"
      ],
      "text/plain": [
       "     Основные операциии крупнейших российских банков     Unnamed: 1  \\\n",
       "NaN                                              NaN            NaN   \n",
       "NaN                         На 01.02.2008, млн. руб.         Активы   \n",
       "NaN                                             Банк  Чистые активы   \n",
       " 1.0                                    АБСОЛЮТ БАНК         130178   \n",
       " 2.0                                        АВАНГАРД        39334.4   \n",
       "\n",
       "             Unnamed: 2               Unnamed: 3  \\\n",
       "NaN                 NaN                      NaN   \n",
       "NaN                 NaN                      NaN   \n",
       "NaN   Денежные средства  Депозиты в Банке России   \n",
       " 1.0            1708.62                        0   \n",
       " 2.0            675.025                        0   \n",
       "\n",
       "                                  Unnamed: 4        Unnamed: 5  \\\n",
       "NaN                                      NaN               NaN   \n",
       "NaN                                      NaN               NaN   \n",
       "NaN   Межбанковские кредиты (МБК) резидентам  МБК нерезидентам   \n",
       " 1.0                                  6093.7           7883.06   \n",
       " 2.0                                  4554.9           482.261   \n",
       "\n",
       "                                 Unnamed: 6  \\\n",
       "NaN                                     NaN   \n",
       "NaN                                     NaN   \n",
       "NaN   Средства, предоставленные государству   \n",
       " 1.0                                      0   \n",
       " 2.0                                      0   \n",
       "\n",
       "                                   Unnamed: 7  \\\n",
       "NaN                                       NaN   \n",
       "NaN                                       NaN   \n",
       "NaN   Средства, предоставленные пред приятиям   \n",
       " 1.0                                  59243.6   \n",
       " 2.0                                  18628.1   \n",
       "\n",
       "                                       Unnamed: 8  \\\n",
       "NaN                                           NaN   \n",
       "NaN                                           NaN   \n",
       "NaN   Средства, предоставленные физи ческим лицам   \n",
       " 1.0                                      25877.3   \n",
       " 2.0                                      7788.75   \n",
       "\n",
       "                                   Unnamed: 9          ...           \\\n",
       "NaN                                       NaN          ...            \n",
       "NaN                                       NaN          ...            \n",
       "NaN   Средства, предоставленные нере зидентам          ...            \n",
       " 1.0                                  7881.18          ...            \n",
       " 2.0                                  1620.93          ...            \n",
       "\n",
       "                        Unnamed: 14                       Unnamed: 15  \\\n",
       "NaN                             NaN                               NaN   \n",
       "NaN                             NaN                           Пассивы   \n",
       "NaN   МБК, полученные от резидентов  МБК, полученные от нерезиденто в   \n",
       " 1.0                        8019.97                           51978.2   \n",
       " 2.0                        5822.17                           3341.91   \n",
       "\n",
       "                    Unnamed: 16                Unnamed: 17  \\\n",
       "NaN                         NaN                        NaN   \n",
       "NaN                         NaN                        NaN   \n",
       "NaN   Текущие счета государства  Текущие счета предприятий   \n",
       " 1.0                          0                    8109.72   \n",
       " 2.0                          0                    8189.54   \n",
       "\n",
       "               Unnamed: 18           Unnamed: 19              Unnamed: 20  \\\n",
       "NaN                    NaN                   NaN                      NaN   \n",
       "NaN                    NaN                   NaN                      NaN   \n",
       "NaN   Прочие текущие счета  Депозиты предприятий  Депозиты физических лиц   \n",
       " 1.0               2532.03               2908.52                  14273.7   \n",
       " 2.0               2300.51               5737.54                  4285.74   \n",
       "\n",
       "                Unnamed: 21                         Unnamed: 22  \\\n",
       "NaN                     NaN                                 NaN   \n",
       "NaN                     NaN                                 NaN   \n",
       "NaN   Депозиты нерезидентов  Выпущенные долговые обязательс тва   \n",
       " 1.0                10745.5                             10374.1   \n",
       " 2.0                 70.366                              2801.1   \n",
       "\n",
       "               Unnamed: 23  \n",
       "NaN                    NaN  \n",
       "NaN                    NaN  \n",
       "NaN   Собственные средства  \n",
       " 1.0               6848.02  \n",
       " 2.0               1767.43  \n",
       "\n",
       "[5 rows x 24 columns]"
      ]
     },
     "execution_count": 3,
     "metadata": {},
     "output_type": "execute_result"
    }
   ],
   "source": [
    "data.head()"
   ]
  },
  {
   "cell_type": "code",
   "execution_count": 4,
   "metadata": {
    "collapsed": true
   },
   "outputs": [],
   "source": [
    "data.columns = data.iloc[2,:]\n",
    "data.index = data.iloc[:,0].values\n",
    "data = data.iloc[3:-1,1:]"
   ]
  },
  {
   "cell_type": "code",
   "execution_count": 5,
   "metadata": {
    "collapsed": false
   },
   "outputs": [
    {
     "data": {
      "text/html": [
       "<div>\n",
       "<table border=\"1\" class=\"dataframe\">\n",
       "  <thead>\n",
       "    <tr style=\"text-align: right;\">\n",
       "      <th>nan</th>\n",
       "      <th>Чистые активы</th>\n",
       "      <th>Денежные средства</th>\n",
       "      <th>Депозиты в Банке России</th>\n",
       "      <th>Межбанковские кредиты (МБК) резидентам</th>\n",
       "      <th>МБК нерезидентам</th>\n",
       "      <th>Средства, предоставленные государству</th>\n",
       "      <th>Средства, предоставленные пред приятиям</th>\n",
       "      <th>Средства, предоставленные физи ческим лицам</th>\n",
       "      <th>Средства, предоставленные нере зидентам</th>\n",
       "      <th>Кредиты, не погашенные в срок</th>\n",
       "      <th>...</th>\n",
       "      <th>МБК, полученные от резидентов</th>\n",
       "      <th>МБК, полученные от нерезиденто в</th>\n",
       "      <th>Текущие счета государства</th>\n",
       "      <th>Текущие счета предприятий</th>\n",
       "      <th>Прочие текущие счета</th>\n",
       "      <th>Депозиты предприятий</th>\n",
       "      <th>Депозиты физических лиц</th>\n",
       "      <th>Депозиты нерезидентов</th>\n",
       "      <th>Выпущенные долговые обязательс тва</th>\n",
       "      <th>Собственные средства</th>\n",
       "    </tr>\n",
       "  </thead>\n",
       "  <tbody>\n",
       "    <tr>\n",
       "      <th>АБСОЛЮТ БАНК</th>\n",
       "      <td>130178</td>\n",
       "      <td>1708.62</td>\n",
       "      <td>0</td>\n",
       "      <td>6093.7</td>\n",
       "      <td>7883.06</td>\n",
       "      <td>0</td>\n",
       "      <td>59243.6</td>\n",
       "      <td>25877.3</td>\n",
       "      <td>7881.18</td>\n",
       "      <td>136.336</td>\n",
       "      <td>...</td>\n",
       "      <td>8019.97</td>\n",
       "      <td>51978.2</td>\n",
       "      <td>0</td>\n",
       "      <td>8109.72</td>\n",
       "      <td>2532.03</td>\n",
       "      <td>2908.52</td>\n",
       "      <td>14273.7</td>\n",
       "      <td>10745.5</td>\n",
       "      <td>10374.1</td>\n",
       "      <td>6848.02</td>\n",
       "    </tr>\n",
       "    <tr>\n",
       "      <th>АВАНГАРД</th>\n",
       "      <td>39334.4</td>\n",
       "      <td>675.025</td>\n",
       "      <td>0</td>\n",
       "      <td>4554.9</td>\n",
       "      <td>482.261</td>\n",
       "      <td>0</td>\n",
       "      <td>18628.1</td>\n",
       "      <td>7788.75</td>\n",
       "      <td>1620.93</td>\n",
       "      <td>282.107</td>\n",
       "      <td>...</td>\n",
       "      <td>5822.17</td>\n",
       "      <td>3341.91</td>\n",
       "      <td>0</td>\n",
       "      <td>8189.54</td>\n",
       "      <td>2300.51</td>\n",
       "      <td>5737.54</td>\n",
       "      <td>4285.74</td>\n",
       "      <td>70.366</td>\n",
       "      <td>2801.1</td>\n",
       "      <td>1767.43</td>\n",
       "    </tr>\n",
       "    <tr>\n",
       "      <th>АГРОИМПУЛЬС</th>\n",
       "      <td>22096.4</td>\n",
       "      <td>622.314</td>\n",
       "      <td>5950</td>\n",
       "      <td>1831.03</td>\n",
       "      <td>0</td>\n",
       "      <td>0</td>\n",
       "      <td>6207.21</td>\n",
       "      <td>3763.58</td>\n",
       "      <td>0</td>\n",
       "      <td>105.452</td>\n",
       "      <td>...</td>\n",
       "      <td>150</td>\n",
       "      <td>0</td>\n",
       "      <td>0</td>\n",
       "      <td>11701.4</td>\n",
       "      <td>1246.35</td>\n",
       "      <td>3059.12</td>\n",
       "      <td>3781.62</td>\n",
       "      <td>570.865</td>\n",
       "      <td>949.349</td>\n",
       "      <td>261.312</td>\n",
       "    </tr>\n",
       "    <tr>\n",
       "      <th>АЙСИАЙСИАЙ БАНК ЕВРАЗИЯ</th>\n",
       "      <td>15890.4</td>\n",
       "      <td>192.443</td>\n",
       "      <td>0</td>\n",
       "      <td>2439.96</td>\n",
       "      <td>4682.24</td>\n",
       "      <td>56.4</td>\n",
       "      <td>1831</td>\n",
       "      <td>1567.75</td>\n",
       "      <td>1236.32</td>\n",
       "      <td>5.474</td>\n",
       "      <td>...</td>\n",
       "      <td>630</td>\n",
       "      <td>14075.1</td>\n",
       "      <td>0</td>\n",
       "      <td>249.552</td>\n",
       "      <td>74.59</td>\n",
       "      <td>50.748</td>\n",
       "      <td>169.008</td>\n",
       "      <td>26.861</td>\n",
       "      <td>2.09</td>\n",
       "      <td>195.291</td>\n",
       "    </tr>\n",
       "    <tr>\n",
       "      <th>АК БАРС</th>\n",
       "      <td>158967</td>\n",
       "      <td>2179.58</td>\n",
       "      <td>0</td>\n",
       "      <td>803.941</td>\n",
       "      <td>8789.23</td>\n",
       "      <td>619.908</td>\n",
       "      <td>88130.3</td>\n",
       "      <td>21874.4</td>\n",
       "      <td>305.955</td>\n",
       "      <td>1073.61</td>\n",
       "      <td>...</td>\n",
       "      <td>4684.53</td>\n",
       "      <td>16862.3</td>\n",
       "      <td>2590.36</td>\n",
       "      <td>12552.2</td>\n",
       "      <td>7538.47</td>\n",
       "      <td>33452.3</td>\n",
       "      <td>24326</td>\n",
       "      <td>10651.5</td>\n",
       "      <td>19122.8</td>\n",
       "      <td>2397.36</td>\n",
       "    </tr>\n",
       "  </tbody>\n",
       "</table>\n",
       "<p>5 rows × 23 columns</p>\n",
       "</div>"
      ],
      "text/plain": [
       "nan                     Чистые активы Денежные средства  \\\n",
       "АБСОЛЮТ БАНК                   130178           1708.62   \n",
       "АВАНГАРД                      39334.4           675.025   \n",
       "АГРОИМПУЛЬС                   22096.4           622.314   \n",
       "АЙСИАЙСИАЙ БАНК ЕВРАЗИЯ       15890.4           192.443   \n",
       "АК БАРС                        158967           2179.58   \n",
       "\n",
       "nan                     Депозиты в Банке России  \\\n",
       "АБСОЛЮТ БАНК                                  0   \n",
       "АВАНГАРД                                      0   \n",
       "АГРОИМПУЛЬС                                5950   \n",
       "АЙСИАЙСИАЙ БАНК ЕВРАЗИЯ                       0   \n",
       "АК БАРС                                       0   \n",
       "\n",
       "nan                     Межбанковские кредиты (МБК) резидентам  \\\n",
       "АБСОЛЮТ БАНК                                            6093.7   \n",
       "АВАНГАРД                                                4554.9   \n",
       "АГРОИМПУЛЬС                                            1831.03   \n",
       "АЙСИАЙСИАЙ БАНК ЕВРАЗИЯ                                2439.96   \n",
       "АК БАРС                                                803.941   \n",
       "\n",
       "nan                     МБК нерезидентам  \\\n",
       "АБСОЛЮТ БАНК                     7883.06   \n",
       "АВАНГАРД                         482.261   \n",
       "АГРОИМПУЛЬС                            0   \n",
       "АЙСИАЙСИАЙ БАНК ЕВРАЗИЯ          4682.24   \n",
       "АК БАРС                          8789.23   \n",
       "\n",
       "nan                     Средства, предоставленные государству  \\\n",
       "АБСОЛЮТ БАНК                                                0   \n",
       "АВАНГАРД                                                    0   \n",
       "АГРОИМПУЛЬС                                                 0   \n",
       "АЙСИАЙСИАЙ БАНК ЕВРАЗИЯ                                  56.4   \n",
       "АК БАРС                                               619.908   \n",
       "\n",
       "nan                     Средства, предоставленные пред приятиям  \\\n",
       "АБСОЛЮТ БАНК                                            59243.6   \n",
       "АВАНГАРД                                                18628.1   \n",
       "АГРОИМПУЛЬС                                             6207.21   \n",
       "АЙСИАЙСИАЙ БАНК ЕВРАЗИЯ                                    1831   \n",
       "АК БАРС                                                 88130.3   \n",
       "\n",
       "nan                     Средства, предоставленные физи ческим лицам  \\\n",
       "АБСОЛЮТ БАНК                                                25877.3   \n",
       "АВАНГАРД                                                    7788.75   \n",
       "АГРОИМПУЛЬС                                                 3763.58   \n",
       "АЙСИАЙСИАЙ БАНК ЕВРАЗИЯ                                     1567.75   \n",
       "АК БАРС                                                     21874.4   \n",
       "\n",
       "nan                     Средства, предоставленные нере зидентам  \\\n",
       "АБСОЛЮТ БАНК                                            7881.18   \n",
       "АВАНГАРД                                                1620.93   \n",
       "АГРОИМПУЛЬС                                                   0   \n",
       "АЙСИАЙСИАЙ БАНК ЕВРАЗИЯ                                 1236.32   \n",
       "АК БАРС                                                 305.955   \n",
       "\n",
       "nan                     Кредиты, не погашенные в срок         ...           \\\n",
       "АБСОЛЮТ БАНК                                  136.336         ...            \n",
       "АВАНГАРД                                      282.107         ...            \n",
       "АГРОИМПУЛЬС                                   105.452         ...            \n",
       "АЙСИАЙСИАЙ БАНК ЕВРАЗИЯ                         5.474         ...            \n",
       "АК БАРС                                       1073.61         ...            \n",
       "\n",
       "nan                     МБК, полученные от резидентов  \\\n",
       "АБСОЛЮТ БАНК                                  8019.97   \n",
       "АВАНГАРД                                      5822.17   \n",
       "АГРОИМПУЛЬС                                       150   \n",
       "АЙСИАЙСИАЙ БАНК ЕВРАЗИЯ                           630   \n",
       "АК БАРС                                       4684.53   \n",
       "\n",
       "nan                     МБК, полученные от нерезиденто в  \\\n",
       "АБСОЛЮТ БАНК                                     51978.2   \n",
       "АВАНГАРД                                         3341.91   \n",
       "АГРОИМПУЛЬС                                            0   \n",
       "АЙСИАЙСИАЙ БАНК ЕВРАЗИЯ                          14075.1   \n",
       "АК БАРС                                          16862.3   \n",
       "\n",
       "nan                     Текущие счета государства Текущие счета предприятий  \\\n",
       "АБСОЛЮТ БАНК                                    0                   8109.72   \n",
       "АВАНГАРД                                        0                   8189.54   \n",
       "АГРОИМПУЛЬС                                     0                   11701.4   \n",
       "АЙСИАЙСИАЙ БАНК ЕВРАЗИЯ                         0                   249.552   \n",
       "АК БАРС                                   2590.36                   12552.2   \n",
       "\n",
       "nan                     Прочие текущие счета Депозиты предприятий  \\\n",
       "АБСОЛЮТ БАНК                         2532.03              2908.52   \n",
       "АВАНГАРД                             2300.51              5737.54   \n",
       "АГРОИМПУЛЬС                          1246.35              3059.12   \n",
       "АЙСИАЙСИАЙ БАНК ЕВРАЗИЯ                74.59               50.748   \n",
       "АК БАРС                              7538.47              33452.3   \n",
       "\n",
       "nan                     Депозиты физических лиц Депозиты нерезидентов  \\\n",
       "АБСОЛЮТ БАНК                            14273.7               10745.5   \n",
       "АВАНГАРД                                4285.74                70.366   \n",
       "АГРОИМПУЛЬС                             3781.62               570.865   \n",
       "АЙСИАЙСИАЙ БАНК ЕВРАЗИЯ                 169.008                26.861   \n",
       "АК БАРС                                   24326               10651.5   \n",
       "\n",
       "nan                     Выпущенные долговые обязательс тва  \\\n",
       "АБСОЛЮТ БАНК                                       10374.1   \n",
       "АВАНГАРД                                            2801.1   \n",
       "АГРОИМПУЛЬС                                        949.349   \n",
       "АЙСИАЙСИАЙ БАНК ЕВРАЗИЯ                               2.09   \n",
       "АК БАРС                                            19122.8   \n",
       "\n",
       "nan                     Собственные средства  \n",
       "АБСОЛЮТ БАНК                         6848.02  \n",
       "АВАНГАРД                             1767.43  \n",
       "АГРОИМПУЛЬС                          261.312  \n",
       "АЙСИАЙСИАЙ БАНК ЕВРАЗИЯ              195.291  \n",
       "АК БАРС                              2397.36  \n",
       "\n",
       "[5 rows x 23 columns]"
      ]
     },
     "execution_count": 5,
     "metadata": {},
     "output_type": "execute_result"
    }
   ],
   "source": [
    "data.head()"
   ]
  },
  {
   "cell_type": "code",
   "execution_count": 6,
   "metadata": {
    "collapsed": false
   },
   "outputs": [],
   "source": [
    "X = np.array(data).astype('float32')\n",
    "std = np.std(X, axis=0).reshape((1,-1))\n",
    "mean = np.mean(X, axis=0).reshape((1,-1))\n",
    "X -= mean\n",
    "X /= std"
   ]
  },
  {
   "cell_type": "code",
   "execution_count": 7,
   "metadata": {
    "collapsed": true
   },
   "outputs": [],
   "source": [
    "def log_likelihood(clust, X):\n",
    "    centroids, clustids = clust[0], clust[1]\n",
    "    \n",
    "    loglik = 0\n",
    "    for clustid, centr in enumerate(centroids):\n",
    "        in_clust = X[clustids == clustid,:]\n",
    "        if len(in_clust) <= 1:\n",
    "            continue\n",
    "        squares = np.sum((in_clust - centr)**2, axis=1)\n",
    "        ss = np.mean(squares)\n",
    "        loglik -= np.log(ss) * len(in_clust)\n",
    "    return loglik"
   ]
  },
  {
   "cell_type": "code",
   "execution_count": 8,
   "metadata": {
    "collapsed": false,
    "scrolled": true
   },
   "outputs": [],
   "source": [
    "likes = []\n",
    "for n_clusters in range(1,17):\n",
    "    kmeans = k_means(n_init=600, n_jobs=4, n_clusters=n_clusters, X=X)\n",
    "    likes.append(log_likelihood(kmeans, X))"
   ]
  },
  {
   "cell_type": "code",
   "execution_count": 9,
   "metadata": {
    "collapsed": false
   },
   "outputs": [
    {
     "data": {
      "image/png": "[encoded data removed]",
      "text/plain": [
       "<matplotlib.figure.Figure at 0x10f977810>"
      ]
     },
     "metadata": {},
     "output_type": "display_data"
    }
   ],
   "source": [
    "plt.plot(likes)\n",
    "plt.show()"
   ]
  },
  {
   "cell_type": "markdown",
   "metadata": {},
   "source": [
    "### likelihood не изменяется значительно после 6 кластеров - наверное, оптимальное число где-то от 4 до 6"
   ]
  },
  {
   "cell_type": "code",
   "execution_count": 10,
   "metadata": {
    "collapsed": true
   },
   "outputs": [],
   "source": [
    "likes = []\n",
    "bics = []\n",
    "aics = []\n",
    "for n_clusters in range(1,27):\n",
    "    mixture = GaussianMixture(n_init=600, n_components=n_clusters)\n",
    "    mixture.fit(X)\n",
    "    likes.append(mixture.score(X))\n",
    "    bics.append(mixture.bic(X))\n",
    "    aics.append(mixture.aic(X))"
   ]
  },
  {
   "cell_type": "code",
   "execution_count": 11,
   "metadata": {
    "collapsed": false
   },
   "outputs": [
    {
     "data": {
      "image/png": "[encoded data removed]",
      "text/plain": [
       "<matplotlib.figure.Figure at 0x110675f10>"
      ]
     },
     "metadata": {},
     "output_type": "display_data"
    },
    {
     "data": {
      "image/png": "[encoded data removed]",
      "text/plain": [
       "<matplotlib.figure.Figure at 0x110321f90>"
      ]
     },
     "metadata": {},
     "output_type": "display_data"
    },
    {
     "data": {
      "image/png": "[encoded data removed]",
      "text/plain": [
       "<matplotlib.figure.Figure at 0x1101bfd50>"
      ]
     },
     "metadata": {},
     "output_type": "display_data"
    }
   ],
   "source": [
    "plt.title('likelihood')\n",
    "plt.plot(likes)\n",
    "plt.show()\n",
    "\n",
    "plt.title('BIC')\n",
    "plt.plot(bics)\n",
    "plt.show()\n",
    "\n",
    "plt.title('AIC')\n",
    "plt.plot(aics)\n",
    "plt.show()"
   ]
  },
  {
   "cell_type": "markdown",
   "metadata": {},
   "source": [
    "### судя по критериям и log likelihood, для смеси гауссиан всё примерно так же - от 4 до 6"
   ]
  },
  {
   "cell_type": "markdown",
   "metadata": {},
   "source": [
    "### попробуем различные методы построения иерархической кластеризации:"
   ]
  },
  {
   "cell_type": "code",
   "execution_count": 12,
   "metadata": {
    "collapsed": false
   },
   "outputs": [
    {
     "data": {
      "image/png": "[encoded data removed]",
      "text/plain": [
       "<matplotlib.figure.Figure at 0x10f94ac50>"
      ]
     },
     "metadata": {},
     "output_type": "display_data"
    }
   ],
   "source": [
    "link = linkage(X, 'ward')\n",
    "dendrogram(link)\n",
    "plt.show()"
   ]
  },
  {
   "cell_type": "code",
   "execution_count": 55,
   "metadata": {
    "collapsed": false
   },
   "outputs": [
    {
     "data": {
      "image/png": "[encoded data removed]",
      "text/plain": [
       "<matplotlib.figure.Figure at 0x112c43c50>"
      ]
     },
     "metadata": {},
     "output_type": "display_data"
    }
   ],
   "source": [
    "link = linkage(X, 'weighted', metric='minkowski')\n",
    "dendrogram(link)\n",
    "plt.show()"
   ]
  },
  {
   "cell_type": "code",
   "execution_count": 14,
   "metadata": {
    "collapsed": true
   },
   "outputs": [],
   "source": [
    "def get_pcs(X):\n",
    "    cov = np.matmul(X.T, X)\n",
    "    values, vectors = np.linalg.eig(cov)\n",
    "    # vectors[:,i] - i-й собственный вектор\n",
    "    order = np.argsort(values)[::-1]\n",
    "    vectors = vectors[:,order]\n",
    "    return np.matmul(X, vectors)"
   ]
  },
  {
   "cell_type": "code",
   "execution_count": 15,
   "metadata": {
    "collapsed": false
   },
   "outputs": [
    {
     "data": {
      "text/plain": [
       "GaussianMixture(covariance_type='full', init_params='kmeans', max_iter=100,\n",
       "        means_init=None, n_components=6, n_init=600, precisions_init=None,\n",
       "        random_state=None, reg_covar=1e-06, tol=0.001, verbose=0,\n",
       "        verbose_interval=10, warm_start=False, weights_init=None)"
      ]
     },
     "execution_count": 15,
     "metadata": {},
     "output_type": "execute_result"
    }
   ],
   "source": [
    "mixture = GaussianMixture(n_init=600, n_components=6)\n",
    "mixture.fit(X)"
   ]
  },
  {
   "cell_type": "code",
   "execution_count": 16,
   "metadata": {
    "collapsed": false
   },
   "outputs": [
    {
     "data": {
      "text/plain": [
       "array([0, 4, 4, 4, 0, 4, 5, 4, 4, 0, 3, 4, 4, 4, 4, 4, 4, 2, 5, 5, 4, 3, 4,\n",
       "       4, 4, 4, 4, 4, 4, 4, 4, 4, 0, 0, 4, 4, 4, 4, 4, 5, 4, 5, 4, 4, 4, 4,\n",
       "       4, 4, 4, 4, 4, 4, 4, 0, 4, 4, 4, 4, 0, 4, 0, 5, 3, 4, 3, 4, 4, 4, 4,\n",
       "       4, 3, 4, 4, 1, 0, 4, 0, 4, 4, 4, 4, 4, 4, 4, 0, 4, 3, 4, 4, 0, 4, 4,\n",
       "       4, 0, 0, 4, 4, 4, 4, 4])"
      ]
     },
     "execution_count": 16,
     "metadata": {},
     "output_type": "execute_result"
    }
   ],
   "source": [
    "mixture.predict(X)"
   ]
  },
  {
   "cell_type": "code",
   "execution_count": 17,
   "metadata": {
    "collapsed": true
   },
   "outputs": [],
   "source": [
    "pcs = get_pcs(X)\n",
    "clusters = mixture.predict(X)"
   ]
  },
  {
   "cell_type": "code",
   "execution_count": 18,
   "metadata": {
    "collapsed": false
   },
   "outputs": [
    {
     "data": {
      "image/png": "[encoded data removed]",
      "text/plain": [
       "<matplotlib.figure.Figure at 0x11065f9d0>"
      ]
     },
     "metadata": {},
     "output_type": "display_data"
    }
   ],
   "source": [
    "plt.scatter(pcs[:,0], pcs[:,1], c=clusters)\n",
    "plt.show()"
   ]
  },
  {
   "cell_type": "code",
   "execution_count": 19,
   "metadata": {
    "collapsed": true
   },
   "outputs": [],
   "source": [
    "select = np.logical_and(pcs[:,0] < 4, pcs[:,1] < 4)"
   ]
  },
  {
   "cell_type": "markdown",
   "metadata": {},
   "source": [
    "### 6 кластеров в смеси гауссиан:"
   ]
  },
  {
   "cell_type": "code",
   "execution_count": 20,
   "metadata": {
    "collapsed": false
   },
   "outputs": [
    {
     "data": {
      "image/png": "[encoded data removed]",
      "text/plain": [
       "<matplotlib.figure.Figure at 0x112f3a390>"
      ]
     },
     "metadata": {},
     "output_type": "display_data"
    }
   ],
   "source": [
    "plt.scatter(pcs[select,0], pcs[select,1], c=clusters[select])\n",
    "plt.show()"
   ]
  },
  {
   "cell_type": "markdown",
   "metadata": {},
   "source": [
    "### Кластеры в иерархической кластеризации:"
   ]
  },
  {
   "cell_type": "code",
   "execution_count": 40,
   "metadata": {
    "collapsed": false
   },
   "outputs": [],
   "source": [
    "clusters = fcluster(link,t=1.15, criterion='inconsistent')"
   ]
  },
  {
   "cell_type": "code",
   "execution_count": 41,
   "metadata": {
    "collapsed": false
   },
   "outputs": [
    {
     "data": {
      "image/png": "[encoded data removed]",
      "text/plain": [
       "<matplotlib.figure.Figure at 0x11487d790>"
      ]
     },
     "metadata": {},
     "output_type": "display_data"
    }
   ],
   "source": [
    "plt.scatter(pcs[select,0], pcs[select,1], c=clusters[select])\n",
    "plt.show()"
   ]
  },
  {
   "cell_type": "code",
   "execution_count": 60,
   "metadata": {
    "collapsed": true
   },
   "outputs": [],
   "source": [
    "link = linkage(X, 'ward')\n",
    "clusters = fcluster(link,t=9.15, criterion='maxclust')"
   ]
  },
  {
   "cell_type": "code",
   "execution_count": 61,
   "metadata": {
    "collapsed": false
   },
   "outputs": [
    {
     "data": {
      "image/png": "[encoded data removed]",
      "text/plain": [
       "<matplotlib.figure.Figure at 0x11386dcd0>"
      ]
     },
     "metadata": {},
     "output_type": "display_data"
    }
   ],
   "source": [
    "plt.scatter(pcs[select,0], pcs[select,1], c=clusters[select])\n",
    "plt.show()"
   ]
  },
  {
   "cell_type": "code",
   "execution_count": 9,
   "metadata": {
    "collapsed": false
   },
   "outputs": [
    {
     "data": {
      "text/plain": [
       "GaussianMixture(covariance_type='full', init_params='kmeans', max_iter=100,\n",
       "        means_init=None, n_components=6, n_init=600, precisions_init=None,\n",
       "        random_state=None, reg_covar=1e-06, tol=0.001, verbose=0,\n",
       "        verbose_interval=10, warm_start=False, weights_init=None)"
      ]
     },
     "execution_count": 9,
     "metadata": {},
     "output_type": "execute_result"
    }
   ],
   "source": [
    "mixture = GaussianMixture(n_init=600, n_components=6)\n",
    "mixture.fit(X)"
   ]
  },
  {
   "cell_type": "code",
   "execution_count": 11,
   "metadata": {
    "collapsed": false
   },
   "outputs": [
    {
     "data": {
      "text/plain": [
       "array([5])"
      ]
     },
     "execution_count": 11,
     "metadata": {},
     "output_type": "execute_result"
    }
   ],
   "source": [
    "mixture.predict([np.mean(X,axis=0)])"
   ]
  },
  {
   "cell_type": "code",
   "execution_count": 13,
   "metadata": {
    "collapsed": false
   },
   "outputs": [
    {
     "data": {
      "text/plain": [
       "array([5, 5, 5, 5, 5, 0, 3, 5, 5, 5, 4, 0, 5, 5, 5, 0, 5, 2, 4, 4, 5, 3, 0,\n",
       "       5, 5, 5, 5, 5, 5, 5, 5, 5, 5, 5, 5, 5, 5, 5, 5, 4, 5, 4, 5, 5, 5, 5,\n",
       "       5, 5, 5, 5, 5, 5, 5, 4, 5, 5, 5, 5, 4, 5, 4, 4, 3, 5, 3, 5, 5, 5, 5,\n",
       "       5, 3, 5, 5, 1, 4, 5, 0, 5, 5, 5, 5, 0, 5, 5, 5, 5, 4, 5, 5, 5, 5, 5,\n",
       "       5, 5, 5, 5, 5, 5, 5, 5])"
      ]
     },
     "execution_count": 13,
     "metadata": {},
     "output_type": "execute_result"
    }
   ],
   "source": [
    "mixture.predict(X)"
   ]
  },
  {
   "cell_type": "markdown",
   "metadata": {},
   "source": [
    "### средний банк относится к 5-му кластеру, самому большому"
   ]
  },
  {
   "cell_type": "code",
   "execution_count": null,
   "metadata": {
    "collapsed": true
   },
   "outputs": [],
   "source": []
  }
 ],
 "metadata": {
  "anaconda-cloud": {},
  "kernelspec": {
   "display_name": "Python [conda env:py2.7]",
   "language": "python",
   "name": "conda-env-py2.7-py"
  },
  "language_info": {
   "codemirror_mode": {
    "name": "ipython",
    "version": 2
   },
   "file_extension": ".py",
   "mimetype": "text/x-python",
   "name": "python",
   "nbconvert_exporter": "python",
   "pygments_lexer": "ipython2",
   "version": "2.7.12"
  }
 },
 "nbformat": 4,
 "nbformat_minor": 1
}
